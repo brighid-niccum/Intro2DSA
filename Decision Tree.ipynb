{
 "cells": [
  {
   "cell_type": "code",
   "execution_count": 4,
   "metadata": {},
   "outputs": [
    {
     "name": "stdout",
     "output_type": "stream",
     "text": [
      "Enter house size (in square meters): 700\n",
      "Enter house age (in years): 30\n",
      "Enter number of bedrooms: 2\n"
     ]
    }
   ],
   "source": [
    "size = int(input('Enter house size (in square meters): '))\n",
    "age = int(input('Enter house age (in years): '))\n",
    "bdrms = int(input('Enter number of bedrooms: '))"
   ]
  },
  {
   "cell_type": "code",
   "execution_count": 5,
   "metadata": {},
   "outputs": [
    {
     "name": "stdout",
     "output_type": "stream",
     "text": [
      "Price is $335,000\n"
     ]
    }
   ],
   "source": [
    "if size > 160:\n",
    "    if bdrms > 3:\n",
    "        if age < 10:\n",
    "            print(\"Price is $510,000\")\n",
    "        else:\n",
    "            print(\"Price is $382,000\")\n",
    "    else:\n",
    "        if age < 40:\n",
    "            print(\"Price is $335,000\")\n",
    "        else:\n",
    "            print(\"Price is $312,000\")\n",
    "else:\n",
    "    if age < 25:\n",
    "        if bdrms > 2:\n",
    "            print(\"Price is $341,000\")\n",
    "        else:\n",
    "            print(\"Price is 258,000\")\n",
    "    else:\n",
    "        if size > 100:\n",
    "            print(\"Price is 285,000\")\n",
    "        else:\n",
    "            print(\"Price is 217,000\")\n",
    "        "
   ]
  },
  {
   "cell_type": "code",
   "execution_count": null,
   "metadata": {},
   "outputs": [],
   "source": []
  }
 ],
 "metadata": {
  "kernelspec": {
   "display_name": "Python 3",
   "language": "python",
   "name": "python3"
  },
  "language_info": {
   "codemirror_mode": {
    "name": "ipython",
    "version": 3
   },
   "file_extension": ".py",
   "mimetype": "text/x-python",
   "name": "python",
   "nbconvert_exporter": "python",
   "pygments_lexer": "ipython3",
   "version": "3.6.5"
  }
 },
 "nbformat": 4,
 "nbformat_minor": 2
}
